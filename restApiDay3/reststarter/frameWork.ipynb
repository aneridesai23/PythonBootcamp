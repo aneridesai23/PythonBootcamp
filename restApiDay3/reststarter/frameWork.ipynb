{
 "cells": [
  {
   "cell_type": "code",
   "execution_count": 7,
   "metadata": {},
   "outputs": [
    {
     "name": "stdout",
     "output_type": "stream",
     "text": [
      "[{'id': 2, 'backers_count': 10, 'blurb': 'hello'}, {'id': 4, 'backers_count': 20, 'blurb': 'Updated!'}, {'id': 3, 'backers_count': 1000, 'blurb': 'damn you are awesom'}]\n"
     ]
    }
   ],
   "source": [
    "import requests\n",
    "\n",
    "kick_api = requests.get('http://127.0.0.1:8000/kickstarter/')\n",
    "print(kick_api.json())"
   ]
  },
  {
   "cell_type": "code",
   "execution_count": 3,
   "metadata": {},
   "outputs": [
    {
     "name": "stdout",
     "output_type": "stream",
     "text": [
      "4\n"
     ]
    }
   ],
   "source": [
    "kick_api = requests.post(\n",
    "    'http://localhost:8000/kickstarter/',\n",
    "    data = {'backers_count': '20', 'blurb': 'Does this work'}\n",
    ")\n",
    "update_id = kick_api.json()['id']\n",
    "print(update_id)"
   ]
  },
  {
   "cell_type": "code",
   "execution_count": 5,
   "metadata": {},
   "outputs": [],
   "source": [
    "put_kick = requests.put(\n",
    "    f'http://127.0.0.1:8000/kickstarter/{update_id}/',\n",
    "    data = {'backers_count': '20', 'blurb': 'Updated!'}\n",
    ")\n"
   ]
  },
  {
   "cell_type": "code",
   "execution_count": 6,
   "metadata": {},
   "outputs": [
    {
     "name": "stdout",
     "output_type": "stream",
     "text": [
      "204\n"
     ]
    }
   ],
   "source": [
    "delete_kick = requests.delete(\n",
    "    f'http://127.0.0.1:8000/kickstarter/1/'\n",
    ")\n",
    "print(delete_kick.status_code)"
   ]
  },
  {
   "cell_type": "code",
   "execution_count": null,
   "metadata": {},
   "outputs": [],
   "source": []
  }
 ],
 "metadata": {
  "kernelspec": {
   "display_name": "Python 3",
   "language": "python",
   "name": "python3"
  },
  "language_info": {
   "codemirror_mode": {
    "name": "ipython",
    "version": 3
   },
   "file_extension": ".py",
   "mimetype": "text/x-python",
   "name": "python",
   "nbconvert_exporter": "python",
   "pygments_lexer": "ipython3",
   "version": "3.7.1"
  }
 },
 "nbformat": 4,
 "nbformat_minor": 2
}
